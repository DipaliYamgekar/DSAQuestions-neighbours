{
 "cells": [
  {
   "cell_type": "code",
   "execution_count": 1,
   "id": "ccf90ace",
   "metadata": {},
   "outputs": [
    {
     "name": "stdout",
     "output_type": "stream",
     "text": [
      "The peak point is 20\n"
     ]
    }
   ],
   "source": [
    "def findPeakUtil(arr, lowerBound, upperBound, n):\n",
    "    \n",
    "    # Find the middle index\n",
    "    mid = lowerBound + (upperBound - lowerBound)/2\n",
    "    mid = int(mid)\n",
    "    \n",
    "    # Compare middle element with its\n",
    "    # neighbours\n",
    "    if ((mid == 0 or arr[mid - 1] <= arr[mid]) and\n",
    "        (mid == n - 1 or arr[mid + 1] <= arr[mid])):\n",
    "        return mid\n",
    "\n",
    "\n",
    "    elif (mid > 0 and arr[mid + 1] > arr[mid]):\n",
    "        return findPeakUtil(arr, (mid + 1), upperBound, n)\n",
    "\n",
    "    else:\n",
    "        return findPeakUtil(arr, lowerBound, (mid - 1), n)\n",
    "\n",
    "\n",
    "arr = [5, 10, 20, 15]\n",
    "n = len(arr)\n",
    "print(\"The peak point is\", arr[findPeakUtil(arr, 0, n - 1, n)])"
   ]
  },
  {
   "cell_type": "code",
   "execution_count": null,
   "id": "82ae7a89",
   "metadata": {},
   "outputs": [],
   "source": []
  }
 ],
 "metadata": {
  "kernelspec": {
   "display_name": "Python 3 (ipykernel)",
   "language": "python",
   "name": "python3"
  },
  "language_info": {
   "codemirror_mode": {
    "name": "ipython",
    "version": 3
   },
   "file_extension": ".py",
   "mimetype": "text/x-python",
   "name": "python",
   "nbconvert_exporter": "python",
   "pygments_lexer": "ipython3",
   "version": "3.9.12"
  }
 },
 "nbformat": 4,
 "nbformat_minor": 5
}
